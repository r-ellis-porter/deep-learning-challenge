{
 "cells": [
  {
   "cell_type": "markdown",
   "metadata": {},
   "source": [
    "## Preprocessing"
   ]
  },
  {
   "cell_type": "code",
   "execution_count": 2,
   "metadata": {},
   "outputs": [
    {
     "data": {
      "text/html": [
       "<div>\n",
       "<style scoped>\n",
       "    .dataframe tbody tr th:only-of-type {\n",
       "        vertical-align: middle;\n",
       "    }\n",
       "\n",
       "    .dataframe tbody tr th {\n",
       "        vertical-align: top;\n",
       "    }\n",
       "\n",
       "    .dataframe thead th {\n",
       "        text-align: right;\n",
       "    }\n",
       "</style>\n",
       "<table border=\"1\" class=\"dataframe\">\n",
       "  <thead>\n",
       "    <tr style=\"text-align: right;\">\n",
       "      <th></th>\n",
       "      <th>EIN</th>\n",
       "      <th>NAME</th>\n",
       "      <th>APPLICATION_TYPE</th>\n",
       "      <th>AFFILIATION</th>\n",
       "      <th>CLASSIFICATION</th>\n",
       "      <th>USE_CASE</th>\n",
       "      <th>ORGANIZATION</th>\n",
       "      <th>STATUS</th>\n",
       "      <th>INCOME_AMT</th>\n",
       "      <th>SPECIAL_CONSIDERATIONS</th>\n",
       "      <th>ASK_AMT</th>\n",
       "      <th>IS_SUCCESSFUL</th>\n",
       "    </tr>\n",
       "  </thead>\n",
       "  <tbody>\n",
       "    <tr>\n",
       "      <th>0</th>\n",
       "      <td>10520599</td>\n",
       "      <td>BLUE KNIGHTS MOTORCYCLE CLUB</td>\n",
       "      <td>T10</td>\n",
       "      <td>Independent</td>\n",
       "      <td>C1000</td>\n",
       "      <td>ProductDev</td>\n",
       "      <td>Association</td>\n",
       "      <td>1</td>\n",
       "      <td>0</td>\n",
       "      <td>N</td>\n",
       "      <td>5000</td>\n",
       "      <td>1</td>\n",
       "    </tr>\n",
       "    <tr>\n",
       "      <th>1</th>\n",
       "      <td>10531628</td>\n",
       "      <td>AMERICAN CHESAPEAKE CLUB CHARITABLE TR</td>\n",
       "      <td>T3</td>\n",
       "      <td>Independent</td>\n",
       "      <td>C2000</td>\n",
       "      <td>Preservation</td>\n",
       "      <td>Co-operative</td>\n",
       "      <td>1</td>\n",
       "      <td>1-9999</td>\n",
       "      <td>N</td>\n",
       "      <td>108590</td>\n",
       "      <td>1</td>\n",
       "    </tr>\n",
       "    <tr>\n",
       "      <th>2</th>\n",
       "      <td>10547893</td>\n",
       "      <td>ST CLOUD PROFESSIONAL FIREFIGHTERS</td>\n",
       "      <td>T5</td>\n",
       "      <td>CompanySponsored</td>\n",
       "      <td>C3000</td>\n",
       "      <td>ProductDev</td>\n",
       "      <td>Association</td>\n",
       "      <td>1</td>\n",
       "      <td>0</td>\n",
       "      <td>N</td>\n",
       "      <td>5000</td>\n",
       "      <td>0</td>\n",
       "    </tr>\n",
       "    <tr>\n",
       "      <th>3</th>\n",
       "      <td>10553066</td>\n",
       "      <td>SOUTHSIDE ATHLETIC ASSOCIATION</td>\n",
       "      <td>T3</td>\n",
       "      <td>CompanySponsored</td>\n",
       "      <td>C2000</td>\n",
       "      <td>Preservation</td>\n",
       "      <td>Trust</td>\n",
       "      <td>1</td>\n",
       "      <td>10000-24999</td>\n",
       "      <td>N</td>\n",
       "      <td>6692</td>\n",
       "      <td>1</td>\n",
       "    </tr>\n",
       "    <tr>\n",
       "      <th>4</th>\n",
       "      <td>10556103</td>\n",
       "      <td>GENETIC RESEARCH INSTITUTE OF THE DESERT</td>\n",
       "      <td>T3</td>\n",
       "      <td>Independent</td>\n",
       "      <td>C1000</td>\n",
       "      <td>Heathcare</td>\n",
       "      <td>Trust</td>\n",
       "      <td>1</td>\n",
       "      <td>100000-499999</td>\n",
       "      <td>N</td>\n",
       "      <td>142590</td>\n",
       "      <td>1</td>\n",
       "    </tr>\n",
       "  </tbody>\n",
       "</table>\n",
       "</div>"
      ],
      "text/plain": [
       "        EIN                                      NAME APPLICATION_TYPE  \\\n",
       "0  10520599              BLUE KNIGHTS MOTORCYCLE CLUB              T10   \n",
       "1  10531628    AMERICAN CHESAPEAKE CLUB CHARITABLE TR               T3   \n",
       "2  10547893        ST CLOUD PROFESSIONAL FIREFIGHTERS               T5   \n",
       "3  10553066            SOUTHSIDE ATHLETIC ASSOCIATION               T3   \n",
       "4  10556103  GENETIC RESEARCH INSTITUTE OF THE DESERT               T3   \n",
       "\n",
       "        AFFILIATION CLASSIFICATION      USE_CASE  ORGANIZATION  STATUS  \\\n",
       "0       Independent          C1000    ProductDev   Association       1   \n",
       "1       Independent          C2000  Preservation  Co-operative       1   \n",
       "2  CompanySponsored          C3000    ProductDev   Association       1   \n",
       "3  CompanySponsored          C2000  Preservation         Trust       1   \n",
       "4       Independent          C1000     Heathcare         Trust       1   \n",
       "\n",
       "      INCOME_AMT SPECIAL_CONSIDERATIONS  ASK_AMT  IS_SUCCESSFUL  \n",
       "0              0                      N     5000              1  \n",
       "1         1-9999                      N   108590              1  \n",
       "2              0                      N     5000              0  \n",
       "3    10000-24999                      N     6692              1  \n",
       "4  100000-499999                      N   142590              1  "
      ]
     },
     "execution_count": 2,
     "metadata": {},
     "output_type": "execute_result"
    }
   ],
   "source": [
    "# Import our dependencies\n",
    "from sklearn.model_selection import train_test_split\n",
    "from sklearn.preprocessing import StandardScaler\n",
    "import pandas as pd\n",
    "import tensorflow as tf\n",
    "\n",
    "#  Import and read the charity_data.csv.\n",
    "import pandas as pd \n",
    "application_df = pd.read_csv(\"https://static.bc-edx.com/data/dl-1-2/m21/lms/starter/charity_data.csv\")\n",
    "application_df.head()"
   ]
  },
  {
   "cell_type": "code",
   "execution_count": 3,
   "metadata": {},
   "outputs": [
    {
     "data": {
      "text/plain": [
       "NAME\n",
       "PARENT BOOSTER USA INC                                                  1260\n",
       "TOPS CLUB INC                                                            765\n",
       "UNITED STATES BOWLING CONGRESS INC                                       700\n",
       "WASHINGTON STATE UNIVERSITY                                              492\n",
       "AMATEUR ATHLETIC UNION OF THE UNITED STATES INC                          408\n",
       "                                                                        ... \n",
       "ST LOUIS SLAM WOMENS FOOTBALL                                              1\n",
       "AIESEC ALUMNI IBEROAMERICA CORP                                            1\n",
       "WEALLBLEEDRED ORG INC                                                      1\n",
       "AMERICAN SOCIETY FOR STANDARDS IN MEDIUMSHIP & PSYCHICAL INVESTIGATI       1\n",
       "WATERHOUSE CHARITABLE TR                                                   1\n",
       "Name: count, Length: 19568, dtype: int64"
      ]
     },
     "execution_count": 3,
     "metadata": {},
     "output_type": "execute_result"
    }
   ],
   "source": [
    "name_counts = application_df['NAME'].value_counts()\n",
    "name_counts"
   ]
  },
  {
   "cell_type": "code",
   "execution_count": 4,
   "metadata": {},
   "outputs": [
    {
     "data": {
      "text/plain": [
       "NAME\n",
       "PARENT BOOSTER USA INC                                                1260\n",
       "TOPS CLUB INC                                                          765\n",
       "UNITED STATES BOWLING CONGRESS INC                                     700\n",
       "WASHINGTON STATE UNIVERSITY                                            492\n",
       "AMATEUR ATHLETIC UNION OF THE UNITED STATES INC                        408\n",
       "PTA TEXAS CONGRESS                                                     368\n",
       "SOROPTIMIST INTERNATIONAL OF THE AMERICAS INC                          331\n",
       "ALPHA PHI SIGMA                                                        313\n",
       "TOASTMASTERS INTERNATIONAL                                             293\n",
       "MOST WORSHIPFUL STRINGER FREE AND ACCEPTED MASONS                      287\n",
       "LITTLE LEAGUE BASEBALL INC                                             277\n",
       "INTERNATIONAL ASSOCIATION OF LIONS CLUBS                               266\n",
       "MOMS CLUB                                                              210\n",
       "INTERNATIONAL ASSOCIATION OF SHEET METAL AIR RAIL & TRANSPORTATION     206\n",
       "AMERICAN ASSOCIATION OF UNIVERSITY WOMEN                               197\n",
       "FARMERS EDUCATIONAL AND COOPERATIVE UNION OF AMERICA                   166\n",
       "KNIGHTS OF COLUMBUS                                                    158\n",
       "HABITAT FOR HUMANITY INTERNATIONAL INC                                 154\n",
       "TENNESSEE ORDER OF THE EASTERN STAR                                    151\n",
       "VETERANS OF FOREIGN WARS OF THE UNITED STATES AUXILIARY                144\n",
       "PTA UTAH CONGRESS                                                      140\n",
       "THE UNITED STATES PONY CLUBS INC                                       136\n",
       "CIVITAN INTERNATIONAL                                                  131\n",
       "SIGMA BETA DELTA INC                                                   127\n",
       "HONOR SOCIETY OF PHI KAPPA PHI                                         107\n",
       "MONTANA 4-H FOUNDATION INC                                             107\n",
       "WASHINGTON STATE GRANGE                                                106\n",
       "UNIVERSITY OF WYOMING                                                  105\n",
       "DEMOLAY INTERNATIONAL                                                  104\n",
       "SERTOMA INC                                                            103\n",
       "AIR FORCE ASSOCIATION                                                   99\n",
       "WORKERS UNITED                                                          97\n",
       "GAMMA THETA UPSILON                                                     92\n",
       "INTERNATIONAL ASSOCIATION OF FIRE FIGHTERS                              91\n",
       "SOCIETY OF SAINT VINCENT DE PAUL COUNCIL OF LOS ANGELES                 87\n",
       "ROTARY INTERNATIONAL                                                    84\n",
       "CALIFORNIA GARDEN CLUBS INC                                             76\n",
       "SWEET ADELINES INTERNATIONAL                                            73\n",
       "DISABLED AMERICAN VETERANS                                              73\n",
       "KLEIN SUPPORT GROUPS INC                                                69\n",
       "CLEARCREEK I S D SUPPORT GROUPS                                         60\n",
       "VFW AUXILIARY DEPARTMENT OF OKLAHOMA INC                                58\n",
       "DEPARTMENT OF KANSAS LADIES AUXILIARY TO THE VFW OF THE US INC          57\n",
       "CISD EDUCATIONAL SUPPORT GROUPS INC                                     57\n",
       "SONS OF CONFEDERATE VETERANS INC                                        56\n",
       "SLOW FOOD USA INC                                                       55\n",
       "NATIONAL YOUNG MENS SERVICE LEAGUE                                      54\n",
       "AMATEUR ATHLETIC UNION OF THE UNITED STATES                             52\n",
       "LAMBDA THETA ALPHA                                                      52\n",
       "Name: count, dtype: int64"
      ]
     },
     "execution_count": 4,
     "metadata": {},
     "output_type": "execute_result"
    }
   ],
   "source": [
    "name_counts[name_counts > 50]"
   ]
  },
  {
   "cell_type": "code",
   "execution_count": 5,
   "metadata": {},
   "outputs": [
    {
     "data": {
      "text/html": [
       "<div>\n",
       "<style scoped>\n",
       "    .dataframe tbody tr th:only-of-type {\n",
       "        vertical-align: middle;\n",
       "    }\n",
       "\n",
       "    .dataframe tbody tr th {\n",
       "        vertical-align: top;\n",
       "    }\n",
       "\n",
       "    .dataframe thead th {\n",
       "        text-align: right;\n",
       "    }\n",
       "</style>\n",
       "<table border=\"1\" class=\"dataframe\">\n",
       "  <thead>\n",
       "    <tr style=\"text-align: right;\">\n",
       "      <th></th>\n",
       "      <th>NAME</th>\n",
       "      <th>APPLICATION_TYPE</th>\n",
       "      <th>AFFILIATION</th>\n",
       "      <th>CLASSIFICATION</th>\n",
       "      <th>USE_CASE</th>\n",
       "      <th>ORGANIZATION</th>\n",
       "      <th>STATUS</th>\n",
       "      <th>INCOME_AMT</th>\n",
       "      <th>SPECIAL_CONSIDERATIONS</th>\n",
       "      <th>ASK_AMT</th>\n",
       "      <th>IS_SUCCESSFUL</th>\n",
       "    </tr>\n",
       "  </thead>\n",
       "  <tbody>\n",
       "    <tr>\n",
       "      <th>0</th>\n",
       "      <td>BLUE KNIGHTS MOTORCYCLE CLUB</td>\n",
       "      <td>T10</td>\n",
       "      <td>Independent</td>\n",
       "      <td>C1000</td>\n",
       "      <td>ProductDev</td>\n",
       "      <td>Association</td>\n",
       "      <td>1</td>\n",
       "      <td>0</td>\n",
       "      <td>N</td>\n",
       "      <td>5000</td>\n",
       "      <td>1</td>\n",
       "    </tr>\n",
       "    <tr>\n",
       "      <th>1</th>\n",
       "      <td>AMERICAN CHESAPEAKE CLUB CHARITABLE TR</td>\n",
       "      <td>T3</td>\n",
       "      <td>Independent</td>\n",
       "      <td>C2000</td>\n",
       "      <td>Preservation</td>\n",
       "      <td>Co-operative</td>\n",
       "      <td>1</td>\n",
       "      <td>1-9999</td>\n",
       "      <td>N</td>\n",
       "      <td>108590</td>\n",
       "      <td>1</td>\n",
       "    </tr>\n",
       "    <tr>\n",
       "      <th>2</th>\n",
       "      <td>ST CLOUD PROFESSIONAL FIREFIGHTERS</td>\n",
       "      <td>T5</td>\n",
       "      <td>CompanySponsored</td>\n",
       "      <td>C3000</td>\n",
       "      <td>ProductDev</td>\n",
       "      <td>Association</td>\n",
       "      <td>1</td>\n",
       "      <td>0</td>\n",
       "      <td>N</td>\n",
       "      <td>5000</td>\n",
       "      <td>0</td>\n",
       "    </tr>\n",
       "    <tr>\n",
       "      <th>3</th>\n",
       "      <td>SOUTHSIDE ATHLETIC ASSOCIATION</td>\n",
       "      <td>T3</td>\n",
       "      <td>CompanySponsored</td>\n",
       "      <td>C2000</td>\n",
       "      <td>Preservation</td>\n",
       "      <td>Trust</td>\n",
       "      <td>1</td>\n",
       "      <td>10000-24999</td>\n",
       "      <td>N</td>\n",
       "      <td>6692</td>\n",
       "      <td>1</td>\n",
       "    </tr>\n",
       "    <tr>\n",
       "      <th>4</th>\n",
       "      <td>GENETIC RESEARCH INSTITUTE OF THE DESERT</td>\n",
       "      <td>T3</td>\n",
       "      <td>Independent</td>\n",
       "      <td>C1000</td>\n",
       "      <td>Heathcare</td>\n",
       "      <td>Trust</td>\n",
       "      <td>1</td>\n",
       "      <td>100000-499999</td>\n",
       "      <td>N</td>\n",
       "      <td>142590</td>\n",
       "      <td>1</td>\n",
       "    </tr>\n",
       "  </tbody>\n",
       "</table>\n",
       "</div>"
      ],
      "text/plain": [
       "                                       NAME APPLICATION_TYPE  \\\n",
       "0              BLUE KNIGHTS MOTORCYCLE CLUB              T10   \n",
       "1    AMERICAN CHESAPEAKE CLUB CHARITABLE TR               T3   \n",
       "2        ST CLOUD PROFESSIONAL FIREFIGHTERS               T5   \n",
       "3            SOUTHSIDE ATHLETIC ASSOCIATION               T3   \n",
       "4  GENETIC RESEARCH INSTITUTE OF THE DESERT               T3   \n",
       "\n",
       "        AFFILIATION CLASSIFICATION      USE_CASE  ORGANIZATION  STATUS  \\\n",
       "0       Independent          C1000    ProductDev   Association       1   \n",
       "1       Independent          C2000  Preservation  Co-operative       1   \n",
       "2  CompanySponsored          C3000    ProductDev   Association       1   \n",
       "3  CompanySponsored          C2000  Preservation         Trust       1   \n",
       "4       Independent          C1000     Heathcare         Trust       1   \n",
       "\n",
       "      INCOME_AMT SPECIAL_CONSIDERATIONS  ASK_AMT  IS_SUCCESSFUL  \n",
       "0              0                      N     5000              1  \n",
       "1         1-9999                      N   108590              1  \n",
       "2              0                      N     5000              0  \n",
       "3    10000-24999                      N     6692              1  \n",
       "4  100000-499999                      N   142590              1  "
      ]
     },
     "execution_count": 5,
     "metadata": {},
     "output_type": "execute_result"
    }
   ],
   "source": [
    "# Drop the non-beneficial ID columns, 'EIN' and 'NAME'.\n",
    "application_df.drop(columns=['EIN'], inplace=True)\n",
    "application_df.head()"
   ]
  },
  {
   "cell_type": "code",
   "execution_count": 6,
   "metadata": {},
   "outputs": [
    {
     "data": {
      "text/plain": [
       "STATUS\n",
       "1    34294\n",
       "0        5\n",
       "Name: count, dtype: int64"
      ]
     },
     "execution_count": 6,
     "metadata": {},
     "output_type": "execute_result"
    }
   ],
   "source": [
    "application_df['STATUS'].value_counts()"
   ]
  },
  {
   "cell_type": "code",
   "execution_count": 7,
   "metadata": {},
   "outputs": [
    {
     "data": {
      "text/plain": [
       "SPECIAL_CONSIDERATIONS\n",
       "N    34272\n",
       "Y       27\n",
       "Name: count, dtype: int64"
      ]
     },
     "execution_count": 7,
     "metadata": {},
     "output_type": "execute_result"
    }
   ],
   "source": [
    "application_df['SPECIAL_CONSIDERATIONS'].value_counts()"
   ]
  },
  {
   "cell_type": "code",
   "execution_count": 8,
   "metadata": {},
   "outputs": [
    {
     "data": {
      "text/plain": [
       "ASK_AMT\n",
       "5000        25398\n",
       "10478           3\n",
       "15583           3\n",
       "63981           3\n",
       "6725            3\n",
       "            ...  \n",
       "5371754         1\n",
       "30060           1\n",
       "43091152        1\n",
       "18683           1\n",
       "36500179        1\n",
       "Name: count, Length: 8747, dtype: int64"
      ]
     },
     "execution_count": 8,
     "metadata": {},
     "output_type": "execute_result"
    }
   ],
   "source": [
    "application_df['ASK_AMT'].value_counts()"
   ]
  },
  {
   "cell_type": "code",
   "execution_count": 9,
   "metadata": {},
   "outputs": [
    {
     "data": {
      "text/plain": [
       "NAME                      19568\n",
       "APPLICATION_TYPE             17\n",
       "AFFILIATION                   6\n",
       "CLASSIFICATION               71\n",
       "USE_CASE                      5\n",
       "ORGANIZATION                  4\n",
       "STATUS                        2\n",
       "INCOME_AMT                    9\n",
       "SPECIAL_CONSIDERATIONS        2\n",
       "ASK_AMT                    8747\n",
       "IS_SUCCESSFUL                 2\n",
       "dtype: int64"
      ]
     },
     "execution_count": 9,
     "metadata": {},
     "output_type": "execute_result"
    }
   ],
   "source": [
    "# Determine the number of unique values in each column.\n",
    "application_df.nunique()"
   ]
  },
  {
   "cell_type": "code",
   "execution_count": 10,
   "metadata": {},
   "outputs": [
    {
     "data": {
      "text/plain": [
       "APPLICATION_TYPE\n",
       "T3     27037\n",
       "T4      1542\n",
       "T6      1216\n",
       "T5      1173\n",
       "T19     1065\n",
       "T8       737\n",
       "T7       725\n",
       "T10      528\n",
       "T9       156\n",
       "T13       66\n",
       "T12       27\n",
       "T2        16\n",
       "T25        3\n",
       "T14        3\n",
       "T29        2\n",
       "T15        2\n",
       "T17        1\n",
       "Name: count, dtype: int64"
      ]
     },
     "execution_count": 10,
     "metadata": {},
     "output_type": "execute_result"
    }
   ],
   "source": [
    "# Look at APPLICATION_TYPE value counts for binning\n",
    "app_type = application_df['APPLICATION_TYPE'].value_counts()\n",
    "app_type"
   ]
  },
  {
   "cell_type": "code",
   "execution_count": 11,
   "metadata": {},
   "outputs": [
    {
     "data": {
      "text/plain": [
       "APPLICATION_TYPE\n",
       "T3       27037\n",
       "Other     2266\n",
       "T4        1542\n",
       "T6        1216\n",
       "T5        1173\n",
       "T19       1065\n",
       "Name: count, dtype: int64"
      ]
     },
     "execution_count": 11,
     "metadata": {},
     "output_type": "execute_result"
    }
   ],
   "source": [
    "# Choose a cutoff value and create a list of application types to be replaced\n",
    "# use the variable name `application_types_to_replace`\n",
    "application_types_to_replace = list(app_type[app_type<1000].index)\n",
    "\n",
    "# Replace in dataframe\n",
    "for app in application_types_to_replace:\n",
    "    application_df['APPLICATION_TYPE'] = application_df['APPLICATION_TYPE'].replace(app,\"Other\")\n",
    "\n",
    "# Check to make sure binning was successful\n",
    "application_df['APPLICATION_TYPE'].value_counts()"
   ]
  },
  {
   "cell_type": "code",
   "execution_count": 12,
   "metadata": {},
   "outputs": [
    {
     "data": {
      "text/plain": [
       "CLASSIFICATION\n",
       "C1000    17326\n",
       "C2000     6074\n",
       "C1200     4837\n",
       "C3000     1918\n",
       "C2100     1883\n",
       "         ...  \n",
       "C4120        1\n",
       "C8210        1\n",
       "C2561        1\n",
       "C4500        1\n",
       "C2150        1\n",
       "Name: count, Length: 71, dtype: int64"
      ]
     },
     "execution_count": 12,
     "metadata": {},
     "output_type": "execute_result"
    }
   ],
   "source": [
    "# Look at CLASSIFICATION value counts for binning\n",
    "class_counts = application_df['CLASSIFICATION'].value_counts()\n",
    "class_counts"
   ]
  },
  {
   "cell_type": "code",
   "execution_count": 13,
   "metadata": {},
   "outputs": [
    {
     "data": {
      "text/plain": [
       "CLASSIFICATION\n",
       "C1000    17326\n",
       "C2000     6074\n",
       "C1200     4837\n",
       "C3000     1918\n",
       "C2100     1883\n",
       "C7000      777\n",
       "C1700      287\n",
       "C4000      194\n",
       "C5000      116\n",
       "C1270      114\n",
       "C2700      104\n",
       "C2800       95\n",
       "C7100       75\n",
       "C1300       58\n",
       "C1280       50\n",
       "C1230       36\n",
       "C1400       34\n",
       "C7200       32\n",
       "C2300       32\n",
       "C1240       30\n",
       "C8000       20\n",
       "C7120       18\n",
       "C1500       16\n",
       "C1800       15\n",
       "C6000       15\n",
       "C1250       14\n",
       "C8200       11\n",
       "C1238       10\n",
       "C1278       10\n",
       "C1235        9\n",
       "C1237        9\n",
       "C7210        7\n",
       "C2400        6\n",
       "C1720        6\n",
       "C4100        6\n",
       "C1257        5\n",
       "C1600        5\n",
       "C1260        3\n",
       "C2710        3\n",
       "C0           3\n",
       "C3200        2\n",
       "C1234        2\n",
       "C1246        2\n",
       "C1267        2\n",
       "C1256        2\n",
       "Name: count, dtype: int64"
      ]
     },
     "execution_count": 13,
     "metadata": {},
     "output_type": "execute_result"
    }
   ],
   "source": [
    "# You may find it helpful to look at CLASSIFICATION value counts >1\n",
    "class_counts[class_counts > 1]"
   ]
  },
  {
   "cell_type": "code",
   "execution_count": 14,
   "metadata": {},
   "outputs": [
    {
     "data": {
      "text/plain": [
       "CLASSIFICATION\n",
       "C1000    17326\n",
       "C2000     6074\n",
       "C1200     4837\n",
       "C3000     1918\n",
       "C2100     1883\n",
       "Other     1484\n",
       "C7000      777\n",
       "Name: count, dtype: int64"
      ]
     },
     "execution_count": 14,
     "metadata": {},
     "output_type": "execute_result"
    }
   ],
   "source": [
    "# Choose a cutoff value and create a list of classifications to be replaced\n",
    "# use the variable name `classifications_to_replace`\n",
    "classifications_to_replace = list(class_counts[class_counts < 700].index)\n",
    "\n",
    "# Replace in dataframe\n",
    "for cls in classifications_to_replace:\n",
    "    application_df['CLASSIFICATION'] = application_df['CLASSIFICATION'].replace(cls,\"Other\")\n",
    "    \n",
    "# Check to make sure binning was successful\n",
    "application_df['CLASSIFICATION'].value_counts()"
   ]
  },
  {
   "cell_type": "code",
   "execution_count": 15,
   "metadata": {},
   "outputs": [
    {
     "data": {
      "text/html": [
       "<div>\n",
       "<style scoped>\n",
       "    .dataframe tbody tr th:only-of-type {\n",
       "        vertical-align: middle;\n",
       "    }\n",
       "\n",
       "    .dataframe tbody tr th {\n",
       "        vertical-align: top;\n",
       "    }\n",
       "\n",
       "    .dataframe thead th {\n",
       "        text-align: right;\n",
       "    }\n",
       "</style>\n",
       "<table border=\"1\" class=\"dataframe\">\n",
       "  <thead>\n",
       "    <tr style=\"text-align: right;\">\n",
       "      <th></th>\n",
       "      <th>STATUS</th>\n",
       "      <th>ASK_AMT</th>\n",
       "      <th>IS_SUCCESSFUL</th>\n",
       "      <th>NAME_1 DAY RANCH RESCUE AND RURAL OKLAHOMA ANIMAL RESOURCE INC</th>\n",
       "      <th>NAME_100 BLACK MEN OF AMERICA</th>\n",
       "      <th>NAME_100 BLACK MEN OF MEMPHIS INC</th>\n",
       "      <th>NAME_100 BLACK MEN OF WEST GEORGIA INC</th>\n",
       "      <th>NAME_1150 WEBSTER STREET INC</th>\n",
       "      <th>NAME_116TH CAVALRY REGIMENT CHAPTER OF THE US CAVALRY &amp; ARMOR ASSOCIATION</th>\n",
       "      <th>NAME_13TH BOMB SQUADRON ASSOCIATION</th>\n",
       "      <th>...</th>\n",
       "      <th>INCOME_AMT_1-9999</th>\n",
       "      <th>INCOME_AMT_10000-24999</th>\n",
       "      <th>INCOME_AMT_100000-499999</th>\n",
       "      <th>INCOME_AMT_10M-50M</th>\n",
       "      <th>INCOME_AMT_1M-5M</th>\n",
       "      <th>INCOME_AMT_25000-99999</th>\n",
       "      <th>INCOME_AMT_50M+</th>\n",
       "      <th>INCOME_AMT_5M-10M</th>\n",
       "      <th>SPECIAL_CONSIDERATIONS_N</th>\n",
       "      <th>SPECIAL_CONSIDERATIONS_Y</th>\n",
       "    </tr>\n",
       "  </thead>\n",
       "  <tbody>\n",
       "    <tr>\n",
       "      <th>0</th>\n",
       "      <td>1</td>\n",
       "      <td>5000</td>\n",
       "      <td>1</td>\n",
       "      <td>False</td>\n",
       "      <td>False</td>\n",
       "      <td>False</td>\n",
       "      <td>False</td>\n",
       "      <td>False</td>\n",
       "      <td>False</td>\n",
       "      <td>False</td>\n",
       "      <td>...</td>\n",
       "      <td>False</td>\n",
       "      <td>False</td>\n",
       "      <td>False</td>\n",
       "      <td>False</td>\n",
       "      <td>False</td>\n",
       "      <td>False</td>\n",
       "      <td>False</td>\n",
       "      <td>False</td>\n",
       "      <td>True</td>\n",
       "      <td>False</td>\n",
       "    </tr>\n",
       "    <tr>\n",
       "      <th>1</th>\n",
       "      <td>1</td>\n",
       "      <td>108590</td>\n",
       "      <td>1</td>\n",
       "      <td>False</td>\n",
       "      <td>False</td>\n",
       "      <td>False</td>\n",
       "      <td>False</td>\n",
       "      <td>False</td>\n",
       "      <td>False</td>\n",
       "      <td>False</td>\n",
       "      <td>...</td>\n",
       "      <td>True</td>\n",
       "      <td>False</td>\n",
       "      <td>False</td>\n",
       "      <td>False</td>\n",
       "      <td>False</td>\n",
       "      <td>False</td>\n",
       "      <td>False</td>\n",
       "      <td>False</td>\n",
       "      <td>True</td>\n",
       "      <td>False</td>\n",
       "    </tr>\n",
       "    <tr>\n",
       "      <th>2</th>\n",
       "      <td>1</td>\n",
       "      <td>5000</td>\n",
       "      <td>0</td>\n",
       "      <td>False</td>\n",
       "      <td>False</td>\n",
       "      <td>False</td>\n",
       "      <td>False</td>\n",
       "      <td>False</td>\n",
       "      <td>False</td>\n",
       "      <td>False</td>\n",
       "      <td>...</td>\n",
       "      <td>False</td>\n",
       "      <td>False</td>\n",
       "      <td>False</td>\n",
       "      <td>False</td>\n",
       "      <td>False</td>\n",
       "      <td>False</td>\n",
       "      <td>False</td>\n",
       "      <td>False</td>\n",
       "      <td>True</td>\n",
       "      <td>False</td>\n",
       "    </tr>\n",
       "    <tr>\n",
       "      <th>3</th>\n",
       "      <td>1</td>\n",
       "      <td>6692</td>\n",
       "      <td>1</td>\n",
       "      <td>False</td>\n",
       "      <td>False</td>\n",
       "      <td>False</td>\n",
       "      <td>False</td>\n",
       "      <td>False</td>\n",
       "      <td>False</td>\n",
       "      <td>False</td>\n",
       "      <td>...</td>\n",
       "      <td>False</td>\n",
       "      <td>True</td>\n",
       "      <td>False</td>\n",
       "      <td>False</td>\n",
       "      <td>False</td>\n",
       "      <td>False</td>\n",
       "      <td>False</td>\n",
       "      <td>False</td>\n",
       "      <td>True</td>\n",
       "      <td>False</td>\n",
       "    </tr>\n",
       "    <tr>\n",
       "      <th>4</th>\n",
       "      <td>1</td>\n",
       "      <td>142590</td>\n",
       "      <td>1</td>\n",
       "      <td>False</td>\n",
       "      <td>False</td>\n",
       "      <td>False</td>\n",
       "      <td>False</td>\n",
       "      <td>False</td>\n",
       "      <td>False</td>\n",
       "      <td>False</td>\n",
       "      <td>...</td>\n",
       "      <td>False</td>\n",
       "      <td>False</td>\n",
       "      <td>True</td>\n",
       "      <td>False</td>\n",
       "      <td>False</td>\n",
       "      <td>False</td>\n",
       "      <td>False</td>\n",
       "      <td>False</td>\n",
       "      <td>True</td>\n",
       "      <td>False</td>\n",
       "    </tr>\n",
       "  </tbody>\n",
       "</table>\n",
       "<p>5 rows × 19610 columns</p>\n",
       "</div>"
      ],
      "text/plain": [
       "   STATUS  ASK_AMT  IS_SUCCESSFUL  \\\n",
       "0       1     5000              1   \n",
       "1       1   108590              1   \n",
       "2       1     5000              0   \n",
       "3       1     6692              1   \n",
       "4       1   142590              1   \n",
       "\n",
       "   NAME_1 DAY RANCH RESCUE AND RURAL OKLAHOMA ANIMAL RESOURCE INC  \\\n",
       "0                                              False                \n",
       "1                                              False                \n",
       "2                                              False                \n",
       "3                                              False                \n",
       "4                                              False                \n",
       "\n",
       "   NAME_100 BLACK MEN OF AMERICA  NAME_100 BLACK MEN OF MEMPHIS INC  \\\n",
       "0                          False                              False   \n",
       "1                          False                              False   \n",
       "2                          False                              False   \n",
       "3                          False                              False   \n",
       "4                          False                              False   \n",
       "\n",
       "   NAME_100 BLACK MEN OF WEST GEORGIA INC  NAME_1150 WEBSTER STREET INC  \\\n",
       "0                                   False                         False   \n",
       "1                                   False                         False   \n",
       "2                                   False                         False   \n",
       "3                                   False                         False   \n",
       "4                                   False                         False   \n",
       "\n",
       "   NAME_116TH CAVALRY REGIMENT CHAPTER OF THE US CAVALRY & ARMOR ASSOCIATION  \\\n",
       "0                                              False                           \n",
       "1                                              False                           \n",
       "2                                              False                           \n",
       "3                                              False                           \n",
       "4                                              False                           \n",
       "\n",
       "   NAME_13TH BOMB SQUADRON ASSOCIATION  ...  INCOME_AMT_1-9999  \\\n",
       "0                                False  ...              False   \n",
       "1                                False  ...               True   \n",
       "2                                False  ...              False   \n",
       "3                                False  ...              False   \n",
       "4                                False  ...              False   \n",
       "\n",
       "   INCOME_AMT_10000-24999  INCOME_AMT_100000-499999  INCOME_AMT_10M-50M  \\\n",
       "0                   False                     False               False   \n",
       "1                   False                     False               False   \n",
       "2                   False                     False               False   \n",
       "3                    True                     False               False   \n",
       "4                   False                      True               False   \n",
       "\n",
       "   INCOME_AMT_1M-5M  INCOME_AMT_25000-99999  INCOME_AMT_50M+  \\\n",
       "0             False                   False            False   \n",
       "1             False                   False            False   \n",
       "2             False                   False            False   \n",
       "3             False                   False            False   \n",
       "4             False                   False            False   \n",
       "\n",
       "   INCOME_AMT_5M-10M  SPECIAL_CONSIDERATIONS_N  SPECIAL_CONSIDERATIONS_Y  \n",
       "0              False                      True                     False  \n",
       "1              False                      True                     False  \n",
       "2              False                      True                     False  \n",
       "3              False                      True                     False  \n",
       "4              False                      True                     False  \n",
       "\n",
       "[5 rows x 19610 columns]"
      ]
     },
     "execution_count": 15,
     "metadata": {},
     "output_type": "execute_result"
    }
   ],
   "source": [
    "# Convert categorical data to numeric with `pd.get_dummies`\n",
    "application_df_dummies = pd.get_dummies(application_df)\n",
    "application_df_dummies.head()"
   ]
  },
  {
   "cell_type": "code",
   "execution_count": 16,
   "metadata": {},
   "outputs": [],
   "source": [
    "# Split our preprocessed data into our features and target arrays\n",
    "X = application_df_dummies.drop(columns=\"IS_SUCCESSFUL\").values\n",
    "y = application_df_dummies[\"IS_SUCCESSFUL\"].values\n",
    "\n",
    "# Split the preprocessed data into a training and testing dataset\n",
    "X_train, X_test, y_train, y_test = train_test_split(X, y, random_state=42)"
   ]
  },
  {
   "cell_type": "code",
   "execution_count": 17,
   "metadata": {},
   "outputs": [
    {
     "data": {
      "text/plain": [
       "NAME                      19568\n",
       "APPLICATION_TYPE              6\n",
       "AFFILIATION                   6\n",
       "CLASSIFICATION                7\n",
       "USE_CASE                      5\n",
       "ORGANIZATION                  4\n",
       "STATUS                        2\n",
       "INCOME_AMT                    9\n",
       "SPECIAL_CONSIDERATIONS        2\n",
       "ASK_AMT                    8747\n",
       "IS_SUCCESSFUL                 2\n",
       "dtype: int64"
      ]
     },
     "execution_count": 17,
     "metadata": {},
     "output_type": "execute_result"
    }
   ],
   "source": [
    "application_df.nunique()"
   ]
  },
  {
   "cell_type": "code",
   "execution_count": 18,
   "metadata": {},
   "outputs": [
    {
     "data": {
      "text/plain": [
       "ASK_AMT\n",
       "5000        25398\n",
       "10478           3\n",
       "15583           3\n",
       "63981           3\n",
       "6725            3\n",
       "            ...  \n",
       "5371754         1\n",
       "30060           1\n",
       "43091152        1\n",
       "18683           1\n",
       "36500179        1\n",
       "Name: count, Length: 8747, dtype: int64"
      ]
     },
     "execution_count": 18,
     "metadata": {},
     "output_type": "execute_result"
    }
   ],
   "source": [
    "ask_count = application_df['ASK_AMT'].value_counts()\n",
    "ask_count"
   ]
  },
  {
   "cell_type": "code",
   "execution_count": 19,
   "metadata": {},
   "outputs": [
    {
     "data": {
      "text/plain": [
       "Series([], Name: count, dtype: int64)"
      ]
     },
     "execution_count": 19,
     "metadata": {},
     "output_type": "execute_result"
    }
   ],
   "source": [
    "ask_count[ask_count.index < 5000]"
   ]
  },
  {
   "cell_type": "code",
   "execution_count": 20,
   "metadata": {},
   "outputs": [],
   "source": [
    "# Create a StandardScaler instances\n",
    "scaler = StandardScaler()\n",
    "\n",
    "# Fit the StandardScaler\n",
    "X_scaler = scaler.fit(X_train)\n",
    "\n",
    "# Scale the data\n",
    "X_train_scaled = X_scaler.transform(X_train)\n",
    "X_test_scaled = X_scaler.transform(X_test)"
   ]
  },
  {
   "cell_type": "markdown",
   "metadata": {},
   "source": [
    "## Compile, Train and Evaluate the Model"
   ]
  },
  {
   "cell_type": "code",
   "execution_count": 15,
   "metadata": {},
   "outputs": [
    {
     "name": "stdout",
     "output_type": "stream",
     "text": [
      "Model: \"sequential\"\n",
      "_________________________________________________________________\n",
      " Layer (type)                Output Shape              Param #   \n",
      "=================================================================\n",
      " dense (Dense)               (None, 8)                 352       \n",
      "                                                                 \n",
      " dense_1 (Dense)             (None, 5)                 45        \n",
      "                                                                 \n",
      " dense_2 (Dense)             (None, 1)                 6         \n",
      "                                                                 \n",
      "=================================================================\n",
      "Total params: 403 (1.57 KB)\n",
      "Trainable params: 403 (1.57 KB)\n",
      "Non-trainable params: 0 (0.00 Byte)\n",
      "_________________________________________________________________\n"
     ]
    }
   ],
   "source": [
    "# Define the model - deep neural net, i.e., the number of input features and hidden nodes for each layer.\n",
    "number_input_features = len(X_train[0])\n",
    "hidden_nodes_layer1 =  8\n",
    "hidden_nodes_layer2 = 5\n",
    "\n",
    "nn = tf.keras.models.Sequential()\n",
    "\n",
    "# First hidden layer\n",
    "nn.add(\n",
    "    tf.keras.layers.Dense(units=hidden_nodes_layer1, input_dim=number_input_features, activation=\"relu\"))\n",
    "\n",
    "# Second hidden layer\n",
    "nn.add(tf.keras.layers.Dense(units=hidden_nodes_layer2, activation=\"relu\"))\n",
    "\n",
    "# Output layer\n",
    "nn.add(tf.keras.layers.Dense(units=1, activation=\"sigmoid\"))\n",
    "\n",
    "# Check the structure of the model\n",
    "nn.summary()"
   ]
  },
  {
   "cell_type": "code",
   "execution_count": 16,
   "metadata": {},
   "outputs": [],
   "source": [
    "# Compile the model\n",
    "nn.compile(loss=\"binary_crossentropy\", optimizer=\"adam\", metrics=[\"accuracy\"])"
   ]
  },
  {
   "cell_type": "code",
   "execution_count": 17,
   "metadata": {},
   "outputs": [
    {
     "name": "stdout",
     "output_type": "stream",
     "text": [
      "Epoch 1/100\n",
      "804/804 [==============================] - 1s 637us/step - loss: 0.6298 - accuracy: 0.6841\n",
      "Epoch 2/100\n",
      "804/804 [==============================] - 1s 627us/step - loss: 0.5951 - accuracy: 0.7117\n",
      "Epoch 3/100\n",
      "804/804 [==============================] - 1s 642us/step - loss: 0.5859 - accuracy: 0.7173\n",
      "Epoch 4/100\n",
      "804/804 [==============================] - 0s 621us/step - loss: 0.5743 - accuracy: 0.7288\n",
      "Epoch 5/100\n",
      "804/804 [==============================] - 0s 615us/step - loss: 0.5713 - accuracy: 0.7290\n",
      "Epoch 6/100\n",
      "804/804 [==============================] - 1s 622us/step - loss: 0.5703 - accuracy: 0.7302\n",
      "Epoch 7/100\n",
      "804/804 [==============================] - 0s 620us/step - loss: 0.5696 - accuracy: 0.7299\n",
      "Epoch 8/100\n",
      "804/804 [==============================] - 1s 627us/step - loss: 0.5694 - accuracy: 0.7310\n",
      "Epoch 9/100\n",
      "804/804 [==============================] - 1s 632us/step - loss: 0.5684 - accuracy: 0.7302\n",
      "Epoch 10/100\n",
      "804/804 [==============================] - 0s 609us/step - loss: 0.5683 - accuracy: 0.7317\n",
      "Epoch 11/100\n",
      "804/804 [==============================] - 0s 621us/step - loss: 0.5680 - accuracy: 0.7313\n",
      "Epoch 12/100\n",
      "804/804 [==============================] - 1s 623us/step - loss: 0.5679 - accuracy: 0.7308\n",
      "Epoch 13/100\n",
      "804/804 [==============================] - 0s 618us/step - loss: 0.5675 - accuracy: 0.7311\n",
      "Epoch 14/100\n",
      "804/804 [==============================] - 1s 667us/step - loss: 0.5669 - accuracy: 0.7315\n",
      "Epoch 15/100\n",
      "804/804 [==============================] - 1s 642us/step - loss: 0.5667 - accuracy: 0.7315\n",
      "Epoch 16/100\n",
      "804/804 [==============================] - 0s 618us/step - loss: 0.5665 - accuracy: 0.7315\n",
      "Epoch 17/100\n",
      "804/804 [==============================] - 0s 610us/step - loss: 0.5663 - accuracy: 0.7317\n",
      "Epoch 18/100\n",
      "804/804 [==============================] - 1s 652us/step - loss: 0.5663 - accuracy: 0.7310\n",
      "Epoch 19/100\n",
      "804/804 [==============================] - 1s 640us/step - loss: 0.5660 - accuracy: 0.7315\n",
      "Epoch 20/100\n",
      "804/804 [==============================] - 1s 628us/step - loss: 0.5657 - accuracy: 0.7324\n",
      "Epoch 21/100\n",
      "804/804 [==============================] - 0s 619us/step - loss: 0.5657 - accuracy: 0.7321\n",
      "Epoch 22/100\n",
      "804/804 [==============================] - 0s 617us/step - loss: 0.5654 - accuracy: 0.7316\n",
      "Epoch 23/100\n",
      "804/804 [==============================] - 0s 618us/step - loss: 0.5655 - accuracy: 0.7322\n",
      "Epoch 24/100\n",
      "804/804 [==============================] - 1s 637us/step - loss: 0.5655 - accuracy: 0.7315\n",
      "Epoch 25/100\n",
      "804/804 [==============================] - 0s 618us/step - loss: 0.5654 - accuracy: 0.7324\n",
      "Epoch 26/100\n",
      "804/804 [==============================] - 0s 620us/step - loss: 0.5652 - accuracy: 0.7316\n",
      "Epoch 27/100\n",
      "804/804 [==============================] - 1s 622us/step - loss: 0.5651 - accuracy: 0.7322\n",
      "Epoch 28/100\n",
      "804/804 [==============================] - 0s 619us/step - loss: 0.5650 - accuracy: 0.7332\n",
      "Epoch 29/100\n",
      "804/804 [==============================] - 1s 641us/step - loss: 0.5650 - accuracy: 0.7320\n",
      "Epoch 30/100\n",
      "804/804 [==============================] - 0s 616us/step - loss: 0.5649 - accuracy: 0.7330\n",
      "Epoch 31/100\n",
      "804/804 [==============================] - 1s 623us/step - loss: 0.5649 - accuracy: 0.7328\n",
      "Epoch 32/100\n",
      "804/804 [==============================] - 0s 621us/step - loss: 0.5650 - accuracy: 0.7321\n",
      "Epoch 33/100\n",
      "804/804 [==============================] - 0s 616us/step - loss: 0.5649 - accuracy: 0.7322\n",
      "Epoch 34/100\n",
      "804/804 [==============================] - 1s 643us/step - loss: 0.5648 - accuracy: 0.7315\n",
      "Epoch 35/100\n",
      "804/804 [==============================] - 0s 620us/step - loss: 0.5647 - accuracy: 0.7324\n",
      "Epoch 36/100\n",
      "804/804 [==============================] - 0s 620us/step - loss: 0.5647 - accuracy: 0.7327\n",
      "Epoch 37/100\n",
      "804/804 [==============================] - 0s 619us/step - loss: 0.5645 - accuracy: 0.7326\n",
      "Epoch 38/100\n",
      "804/804 [==============================] - 1s 624us/step - loss: 0.5645 - accuracy: 0.7327\n",
      "Epoch 39/100\n",
      "804/804 [==============================] - 1s 638us/step - loss: 0.5643 - accuracy: 0.7323\n",
      "Epoch 40/100\n",
      "804/804 [==============================] - 0s 617us/step - loss: 0.5644 - accuracy: 0.7325\n",
      "Epoch 41/100\n",
      "804/804 [==============================] - 0s 616us/step - loss: 0.5642 - accuracy: 0.7324\n",
      "Epoch 42/100\n",
      "804/804 [==============================] - 0s 616us/step - loss: 0.5643 - accuracy: 0.7324\n",
      "Epoch 43/100\n",
      "804/804 [==============================] - 0s 618us/step - loss: 0.5642 - accuracy: 0.7325\n",
      "Epoch 44/100\n",
      "804/804 [==============================] - 1s 640us/step - loss: 0.5643 - accuracy: 0.7327\n",
      "Epoch 45/100\n",
      "804/804 [==============================] - 1s 628us/step - loss: 0.5640 - accuracy: 0.7331\n",
      "Epoch 46/100\n",
      "804/804 [==============================] - 1s 627us/step - loss: 0.5642 - accuracy: 0.7331\n",
      "Epoch 47/100\n",
      "804/804 [==============================] - 1s 652us/step - loss: 0.5639 - accuracy: 0.7321\n",
      "Epoch 48/100\n",
      "804/804 [==============================] - 1s 627us/step - loss: 0.5636 - accuracy: 0.7334\n",
      "Epoch 49/100\n",
      "804/804 [==============================] - 1s 660us/step - loss: 0.5638 - accuracy: 0.7337\n",
      "Epoch 50/100\n",
      "804/804 [==============================] - 0s 619us/step - loss: 0.5638 - accuracy: 0.7323\n",
      "Epoch 51/100\n",
      "804/804 [==============================] - 1s 633us/step - loss: 0.5639 - accuracy: 0.7329\n",
      "Epoch 52/100\n",
      "804/804 [==============================] - 1s 626us/step - loss: 0.5639 - accuracy: 0.7334\n",
      "Epoch 53/100\n",
      "804/804 [==============================] - 1s 639us/step - loss: 0.5637 - accuracy: 0.7330\n",
      "Epoch 54/100\n",
      "804/804 [==============================] - 1s 650us/step - loss: 0.5638 - accuracy: 0.7331\n",
      "Epoch 55/100\n",
      "804/804 [==============================] - 1s 632us/step - loss: 0.5636 - accuracy: 0.7325\n",
      "Epoch 56/100\n",
      "804/804 [==============================] - 1s 648us/step - loss: 0.5635 - accuracy: 0.7325\n",
      "Epoch 57/100\n",
      "804/804 [==============================] - 1s 627us/step - loss: 0.5636 - accuracy: 0.7330\n",
      "Epoch 58/100\n",
      "804/804 [==============================] - 1s 679us/step - loss: 0.5637 - accuracy: 0.7324\n",
      "Epoch 59/100\n",
      "804/804 [==============================] - 1s 633us/step - loss: 0.5633 - accuracy: 0.7340\n",
      "Epoch 60/100\n",
      "804/804 [==============================] - 1s 630us/step - loss: 0.5637 - accuracy: 0.7313\n",
      "Epoch 61/100\n",
      "804/804 [==============================] - 1s 636us/step - loss: 0.5632 - accuracy: 0.7335\n",
      "Epoch 62/100\n",
      "804/804 [==============================] - 1s 638us/step - loss: 0.5631 - accuracy: 0.7335\n",
      "Epoch 63/100\n",
      "804/804 [==============================] - 1s 624us/step - loss: 0.5633 - accuracy: 0.7327\n",
      "Epoch 64/100\n",
      "804/804 [==============================] - 0s 620us/step - loss: 0.5633 - accuracy: 0.7338\n",
      "Epoch 65/100\n",
      "804/804 [==============================] - 0s 619us/step - loss: 0.5635 - accuracy: 0.7323\n",
      "Epoch 66/100\n",
      "804/804 [==============================] - 1s 636us/step - loss: 0.5631 - accuracy: 0.7333\n",
      "Epoch 67/100\n",
      "804/804 [==============================] - 0s 615us/step - loss: 0.5633 - accuracy: 0.7328\n",
      "Epoch 68/100\n",
      "804/804 [==============================] - 1s 623us/step - loss: 0.5631 - accuracy: 0.7327\n",
      "Epoch 69/100\n",
      "804/804 [==============================] - 1s 634us/step - loss: 0.5633 - accuracy: 0.7331\n",
      "Epoch 70/100\n",
      "804/804 [==============================] - 0s 617us/step - loss: 0.5629 - accuracy: 0.7335\n",
      "Epoch 71/100\n",
      "804/804 [==============================] - 1s 635us/step - loss: 0.5631 - accuracy: 0.7333\n",
      "Epoch 72/100\n",
      "804/804 [==============================] - 1s 622us/step - loss: 0.5629 - accuracy: 0.7331\n",
      "Epoch 73/100\n",
      "804/804 [==============================] - 0s 618us/step - loss: 0.5629 - accuracy: 0.7331\n",
      "Epoch 74/100\n",
      "804/804 [==============================] - 0s 614us/step - loss: 0.5629 - accuracy: 0.7334\n",
      "Epoch 75/100\n",
      "804/804 [==============================] - 1s 639us/step - loss: 0.5630 - accuracy: 0.7337\n",
      "Epoch 76/100\n",
      "804/804 [==============================] - 0s 618us/step - loss: 0.5630 - accuracy: 0.7336\n",
      "Epoch 77/100\n",
      "804/804 [==============================] - 1s 624us/step - loss: 0.5629 - accuracy: 0.7341\n",
      "Epoch 78/100\n",
      "804/804 [==============================] - 1s 623us/step - loss: 0.5631 - accuracy: 0.7335\n",
      "Epoch 79/100\n",
      "804/804 [==============================] - 1s 625us/step - loss: 0.5630 - accuracy: 0.7335\n",
      "Epoch 80/100\n",
      "804/804 [==============================] - 1s 637us/step - loss: 0.5627 - accuracy: 0.7337\n",
      "Epoch 81/100\n",
      "804/804 [==============================] - 1s 629us/step - loss: 0.5630 - accuracy: 0.7331\n",
      "Epoch 82/100\n",
      "804/804 [==============================] - 0s 621us/step - loss: 0.5629 - accuracy: 0.7331\n",
      "Epoch 83/100\n",
      "804/804 [==============================] - 1s 639us/step - loss: 0.5630 - accuracy: 0.7333\n",
      "Epoch 84/100\n",
      "804/804 [==============================] - 1s 634us/step - loss: 0.5627 - accuracy: 0.7332\n",
      "Epoch 85/100\n",
      "804/804 [==============================] - 1s 663us/step - loss: 0.5628 - accuracy: 0.7338\n",
      "Epoch 86/100\n",
      "804/804 [==============================] - 1s 641us/step - loss: 0.5628 - accuracy: 0.7343\n",
      "Epoch 87/100\n",
      "804/804 [==============================] - 1s 640us/step - loss: 0.5627 - accuracy: 0.7338\n",
      "Epoch 88/100\n",
      "804/804 [==============================] - 1s 632us/step - loss: 0.5629 - accuracy: 0.7334\n",
      "Epoch 89/100\n",
      "804/804 [==============================] - 1s 660us/step - loss: 0.5627 - accuracy: 0.7329\n",
      "Epoch 90/100\n",
      "804/804 [==============================] - 1s 622us/step - loss: 0.5627 - accuracy: 0.7341\n",
      "Epoch 91/100\n",
      "804/804 [==============================] - 1s 636us/step - loss: 0.5625 - accuracy: 0.7338\n",
      "Epoch 92/100\n",
      "804/804 [==============================] - 1s 635us/step - loss: 0.5622 - accuracy: 0.7338\n",
      "Epoch 93/100\n",
      "804/804 [==============================] - 1s 655us/step - loss: 0.5626 - accuracy: 0.7335\n",
      "Epoch 94/100\n",
      "804/804 [==============================] - 1s 651us/step - loss: 0.5628 - accuracy: 0.7338\n",
      "Epoch 95/100\n",
      "804/804 [==============================] - 1s 629us/step - loss: 0.5627 - accuracy: 0.7335\n",
      "Epoch 96/100\n",
      "804/804 [==============================] - 1s 641us/step - loss: 0.5625 - accuracy: 0.7338\n",
      "Epoch 97/100\n",
      "804/804 [==============================] - 1s 653us/step - loss: 0.5625 - accuracy: 0.7341\n",
      "Epoch 98/100\n",
      "804/804 [==============================] - 1s 628us/step - loss: 0.5624 - accuracy: 0.7343\n",
      "Epoch 99/100\n",
      "804/804 [==============================] - 1s 625us/step - loss: 0.5625 - accuracy: 0.7345\n",
      "Epoch 100/100\n",
      "804/804 [==============================] - 1s 627us/step - loss: 0.5622 - accuracy: 0.7339\n"
     ]
    }
   ],
   "source": [
    "# Train the model\n",
    "fit_model = nn.fit(X_train_scaled,y_train,epochs=100)"
   ]
  },
  {
   "cell_type": "code",
   "execution_count": 37,
   "metadata": {},
   "outputs": [
    {
     "name": "stdout",
     "output_type": "stream",
     "text": [
      "8575/8575 - 0s - loss: 0.5578 - acc: 0.7263\n",
      "Loss: 0.557812534073699, Accuracy: 0.7262973785400391\n"
     ]
    }
   ],
   "source": [
    "# Evaluate the model using the test data\n",
    "model_loss, model_accuracy = nn.evaluate(X_test_scaled,y_test,verbose=2)\n",
    "print(f\"Loss: {model_loss}, Accuracy: {model_accuracy}\")"
   ]
  },
  {
   "cell_type": "markdown",
   "metadata": {},
   "source": [
    "# AutoOptimizer"
   ]
  },
  {
   "cell_type": "code",
   "execution_count": 28,
   "metadata": {},
   "outputs": [],
   "source": [
    "number_input_features = len(X_train[0])\n",
    "\n",
    "# Create a method that creates a new Sequential model with hyperparameter options\n",
    "def build_model(hp):\n",
    "    # Create Model\n",
    "    nn_model = tf.keras.models.Sequential()\n",
    "    \n",
    "    # Allow kerastuner to decide which activation function to use in hidden layers\n",
    "    activation = hp.Choice('activation', ['relu','tanh','sigmoid', 'softmax', 'leaky_relu'])\n",
    "    layer_activation = hp.Choice('activation', ['relu','tanh','sigmoid', 'softmax', 'leaky_relu'])\n",
    "    \n",
    "    # Allow kerastuner to decide number of neurons in first layer\n",
    "    nn_model.add(tf.keras.layers.Dense(\n",
    "        units=hp.Int('first_units', min_value=1, max_value=16, step=2), \n",
    "        activation=activation, \n",
    "        input_dim=number_input_features))\n",
    "\n",
    "    # Allow kerastuner to decide number of hidden layers and neurons in hidden layers\n",
    "    for i in range(hp.Int('num_layers', 1, 8)):\n",
    "        nn_model.add(tf.keras.layers.Dense(units=hp.Int('units_' + str(i),\n",
    "            min_value=1,\n",
    "            max_value=16,\n",
    "            step=2),\n",
    "            activation=layer_activation))\n",
    "\n",
    "    # Add dropout layer with a choice for dropout rate\n",
    "    nn_model.add(tf.keras.layers.Dropout(\n",
    "        hp.Float(f'dropout_{i}', min_value=0.0, max_value=0.5, step=0.1)))\n",
    "\n",
    "    nn_model.add(tf.keras.layers.Dense(units=1, activation=\"sigmoid\"))\n",
    "\n",
    "    # Compile the model\n",
    "    nn_model.compile(loss=\"binary_crossentropy\", optimizer=tf.keras.optimizers.Adam(learning_rate=hp.Choice('learning_rate', \n",
    "                                                                                                            values=[1e-2, 1e-3, 1e-4])), \n",
    "                                                                                                            metrics=[\"accuracy\"])\n",
    "\n",
    "    return nn_model"
   ]
  },
  {
   "cell_type": "code",
   "execution_count": 29,
   "metadata": {},
   "outputs": [],
   "source": [
    "# Import the kerastuner library\n",
    "import keras_tuner as kt\n",
    "\n",
    "tuner = kt.Hyperband(\n",
    "    build_model,\n",
    "    objective=\"val_accuracy\",\n",
    "    max_epochs=20,\n",
    "    hyperband_iterations=2)"
   ]
  },
  {
   "cell_type": "code",
   "execution_count": 30,
   "metadata": {},
   "outputs": [
    {
     "name": "stdout",
     "output_type": "stream",
     "text": [
      "Trial 60 Complete [00h 00m 29s]\n",
      "val_accuracy: 0.5727113485336304\n",
      "\n",
      "Best val_accuracy So Far: 0.7972011566162109\n",
      "Total elapsed time: 00h 18m 44s\n",
      "CPU times: total: 1h 43min\n",
      "Wall time: 18min 44s\n"
     ]
    }
   ],
   "source": [
    "%%time\n",
    "# Run the kerastuner search for best hyperparameters\n",
    "tuner.search(X_train_scaled,y_train,epochs=100,validation_data=(X_test_scaled,y_test))"
   ]
  },
  {
   "cell_type": "code",
   "execution_count": 31,
   "metadata": {},
   "outputs": [
    {
     "data": {
      "text/plain": [
       "{'activation': 'sigmoid',\n",
       " 'first_units': 5,\n",
       " 'num_layers': 5,\n",
       " 'units_0': 15,\n",
       " 'dropout_0': 0.1,\n",
       " 'learning_rate': 0.001,\n",
       " 'units_1': 7,\n",
       " 'units_2': 7,\n",
       " 'units_3': 15,\n",
       " 'units_4': 9,\n",
       " 'units_5': 7,\n",
       " 'units_6': 5,\n",
       " 'units_7': 5,\n",
       " 'dropout_7': 0.4,\n",
       " 'dropout_6': 0.2,\n",
       " 'dropout_2': 0.4,\n",
       " 'dropout_5': 0.0,\n",
       " 'dropout_4': 0.2,\n",
       " 'dropout_1': 0.1,\n",
       " 'dropout_3': 0.2,\n",
       " 'tuner/epochs': 20,\n",
       " 'tuner/initial_epoch': 7,\n",
       " 'tuner/bracket': 2,\n",
       " 'tuner/round': 2,\n",
       " 'tuner/trial_id': '0043'}"
      ]
     },
     "execution_count": 31,
     "metadata": {},
     "output_type": "execute_result"
    }
   ],
   "source": [
    "# Get best model hyperparameters\n",
    "best_hyper = tuner.get_best_hyperparameters(1)[0]\n",
    "best_hyper.values"
   ]
  },
  {
   "cell_type": "code",
   "execution_count": 32,
   "metadata": {},
   "outputs": [
    {
     "name": "stdout",
     "output_type": "stream",
     "text": [
      "268/268 - 0s - loss: 0.5434 - accuracy: 0.7972 - 402ms/epoch - 2ms/step\n",
      "Loss: 0.5434466004371643, Accuracy: 0.7972011566162109\n"
     ]
    }
   ],
   "source": [
    "# Evaluate best model against full test data\n",
    "best_model = tuner.get_best_models(1)[0]\n",
    "model_loss, model_accuracy = best_model.evaluate(X_test_scaled,y_test,verbose=2)\n",
    "print(f\"Loss: {model_loss}, Accuracy: {model_accuracy}\")"
   ]
  },
  {
   "cell_type": "code",
   "execution_count": 33,
   "metadata": {},
   "outputs": [
    {
     "name": "stderr",
     "output_type": "stream",
     "text": [
      "c:\\Users\\Ellis\\anaconda3\\envs\\dev\\lib\\site-packages\\keras\\src\\engine\\training.py:3000: UserWarning: You are saving your model as an HDF5 file via `model.save()`. This file format is considered legacy. We recommend using instead the native Keras format, e.g. `model.save('my_model.keras')`.\n",
      "  saving_api.save_model(\n"
     ]
    }
   ],
   "source": [
    "# Export our model to HDF5 file\n",
    "best_model.save('AlphabetSoupCharity_Optimization.h5')\n",
    "best_model.save('best_model.keras')"
   ]
  }
 ],
 "metadata": {
  "kernelspec": {
   "display_name": "Python 3",
   "language": "python",
   "name": "python3"
  },
  "language_info": {
   "codemirror_mode": {
    "name": "ipython",
    "version": 3
   },
   "file_extension": ".py",
   "mimetype": "text/x-python",
   "name": "python",
   "nbconvert_exporter": "python",
   "pygments_lexer": "ipython3",
   "version": "3.10.13"
  },
  "vscode": {
   "interpreter": {
    "hash": "31f2aee4e71d21fbe5cf8b01ff0e069b9275f58929596ceb00d14d90e3e16cd6"
   }
  }
 },
 "nbformat": 4,
 "nbformat_minor": 4
}
